{
  "cells": [
    {
      "cell_type": "code",
      "execution_count": 1,
      "metadata": {
        "id": "8qN-4ZGcEM-4"
      },
      "outputs": [],
      "source": [
        "#Importing required libraries and packages\n",
        "import pandas as pd\n",
        "import numpy as np\n",
        "import matplotlib.pyplot as plt\n",
        "import seaborn as sns\n",
        "from sklearn.model_selection import train_test_split\n",
        "from sklearn import metrics\n",
        "from sklearn.naive_bayes import GaussianNB\n",
        "from sklearn import preprocessing\n",
        "label_encoder = preprocessing.LabelEncoder()"
      ]
    },
    {
      "cell_type": "code",
      "execution_count": 2,
      "metadata": {
        "colab": {
          "base_uri": "https://localhost:8080/"
        },
        "id": "L-Sy5PafQA4n",
        "outputId": "9ffaf83d-e2a0-4791-f631-1a2aad2543b1"
      },
      "outputs": [
        {
          "name": "stdout",
          "output_type": "stream",
          "text": [
            "Mounted at /content/drive\n"
          ]
        }
      ],
      "source": [
        "from google.colab import drive\n",
        "#drive.mount('/content/MyDrive')\n",
        "drive.mount(\"/content/drive\", force_remount=True)"
      ]
    },
    {
      "cell_type": "code",
      "execution_count": 3,
      "metadata": {
        "colab": {
          "base_uri": "https://localhost:8080/"
        },
        "id": "mD0-u65MQMBc",
        "outputId": "0dc2400d-50e9-4063-de84-43e1fb4e40cb"
      },
      "outputs": [
        {
          "name": "stdout",
          "output_type": "stream",
          "text": [
            "/content/drive/My Drive\n"
          ]
        }
      ],
      "source": [
        "#mounting drive path\n",
        "%cd /content/drive/My Drive/"
      ]
    },
    {
      "cell_type": "code",
      "execution_count": 4,
      "metadata": {
        "id": "vjCZIKqpK333"
      },
      "outputs": [],
      "source": [
        "#reading dataset\n",
        "df=pd.read_csv('Dataset.csv')"
      ]
    },
    {
      "cell_type": "code",
      "execution_count": 5,
      "metadata": {
        "colab": {
          "base_uri": "https://localhost:8080/",
          "height": 206
        },
        "id": "jaLBskHkQ75j",
        "outputId": "5e95c55c-03ca-4b08-9374-ac0f2635695a"
      },
      "outputs": [
        {
          "data": {
            "text/html": [
              "\n",
              "  <div id=\"df-6454d8bb-fe42-4d40-ae98-303e9a9a5421\">\n",
              "    <div class=\"colab-df-container\">\n",
              "      <div>\n",
              "<style scoped>\n",
              "    .dataframe tbody tr th:only-of-type {\n",
              "        vertical-align: middle;\n",
              "    }\n",
              "\n",
              "    .dataframe tbody tr th {\n",
              "        vertical-align: top;\n",
              "    }\n",
              "\n",
              "    .dataframe thead th {\n",
              "        text-align: right;\n",
              "    }\n",
              "</style>\n",
              "<table border=\"1\" class=\"dataframe\">\n",
              "  <thead>\n",
              "    <tr style=\"text-align: right;\">\n",
              "      <th></th>\n",
              "      <th>Error Message</th>\n",
              "      <th>Resolution</th>\n",
              "    </tr>\n",
              "  </thead>\n",
              "  <tbody>\n",
              "    <tr>\n",
              "      <th>0</th>\n",
              "      <td>Request sent to Azure Machine Learning for ope...</td>\n",
              "      <td>Verify that the credential is valid and retry.</td>\n",
              "    </tr>\n",
              "    <tr>\n",
              "      <th>1</th>\n",
              "      <td>Timeout error</td>\n",
              "      <td>Rerun the pipeline</td>\n",
              "    </tr>\n",
              "    <tr>\n",
              "      <th>2</th>\n",
              "      <td>Azure ML pipeline run failed with status: '%am...</td>\n",
              "      <td>Check Azure Machine Learning for more error lo...</td>\n",
              "    </tr>\n",
              "    <tr>\n",
              "      <th>3</th>\n",
              "      <td>Could not get the status of the application '%...</td>\n",
              "      <td>This error occurs when the service doesn't rec...</td>\n",
              "    </tr>\n",
              "    <tr>\n",
              "      <th>4</th>\n",
              "      <td>An invalid json is provided for property '%pro...</td>\n",
              "      <td>Refer to the documentation for the property an...</td>\n",
              "    </tr>\n",
              "  </tbody>\n",
              "</table>\n",
              "</div>\n",
              "      <button class=\"colab-df-convert\" onclick=\"convertToInteractive('df-6454d8bb-fe42-4d40-ae98-303e9a9a5421')\"\n",
              "              title=\"Convert this dataframe to an interactive table.\"\n",
              "              style=\"display:none;\">\n",
              "        \n",
              "  <svg xmlns=\"http://www.w3.org/2000/svg\" height=\"24px\"viewBox=\"0 0 24 24\"\n",
              "       width=\"24px\">\n",
              "    <path d=\"M0 0h24v24H0V0z\" fill=\"none\"/>\n",
              "    <path d=\"M18.56 5.44l.94 2.06.94-2.06 2.06-.94-2.06-.94-.94-2.06-.94 2.06-2.06.94zm-11 1L8.5 8.5l.94-2.06 2.06-.94-2.06-.94L8.5 2.5l-.94 2.06-2.06.94zm10 10l.94 2.06.94-2.06 2.06-.94-2.06-.94-.94-2.06-.94 2.06-2.06.94z\"/><path d=\"M17.41 7.96l-1.37-1.37c-.4-.4-.92-.59-1.43-.59-.52 0-1.04.2-1.43.59L10.3 9.45l-7.72 7.72c-.78.78-.78 2.05 0 2.83L4 21.41c.39.39.9.59 1.41.59.51 0 1.02-.2 1.41-.59l7.78-7.78 2.81-2.81c.8-.78.8-2.07 0-2.86zM5.41 20L4 18.59l7.72-7.72 1.47 1.35L5.41 20z\"/>\n",
              "  </svg>\n",
              "      </button>\n",
              "      \n",
              "  <style>\n",
              "    .colab-df-container {\n",
              "      display:flex;\n",
              "      flex-wrap:wrap;\n",
              "      gap: 12px;\n",
              "    }\n",
              "\n",
              "    .colab-df-convert {\n",
              "      background-color: #E8F0FE;\n",
              "      border: none;\n",
              "      border-radius: 50%;\n",
              "      cursor: pointer;\n",
              "      display: none;\n",
              "      fill: #1967D2;\n",
              "      height: 32px;\n",
              "      padding: 0 0 0 0;\n",
              "      width: 32px;\n",
              "    }\n",
              "\n",
              "    .colab-df-convert:hover {\n",
              "      background-color: #E2EBFA;\n",
              "      box-shadow: 0px 1px 2px rgba(60, 64, 67, 0.3), 0px 1px 3px 1px rgba(60, 64, 67, 0.15);\n",
              "      fill: #174EA6;\n",
              "    }\n",
              "\n",
              "    [theme=dark] .colab-df-convert {\n",
              "      background-color: #3B4455;\n",
              "      fill: #D2E3FC;\n",
              "    }\n",
              "\n",
              "    [theme=dark] .colab-df-convert:hover {\n",
              "      background-color: #434B5C;\n",
              "      box-shadow: 0px 1px 3px 1px rgba(0, 0, 0, 0.15);\n",
              "      filter: drop-shadow(0px 1px 2px rgba(0, 0, 0, 0.3));\n",
              "      fill: #FFFFFF;\n",
              "    }\n",
              "  </style>\n",
              "\n",
              "      <script>\n",
              "        const buttonEl =\n",
              "          document.querySelector('#df-6454d8bb-fe42-4d40-ae98-303e9a9a5421 button.colab-df-convert');\n",
              "        buttonEl.style.display =\n",
              "          google.colab.kernel.accessAllowed ? 'block' : 'none';\n",
              "\n",
              "        async function convertToInteractive(key) {\n",
              "          const element = document.querySelector('#df-6454d8bb-fe42-4d40-ae98-303e9a9a5421');\n",
              "          const dataTable =\n",
              "            await google.colab.kernel.invokeFunction('convertToInteractive',\n",
              "                                                     [key], {});\n",
              "          if (!dataTable) return;\n",
              "\n",
              "          const docLinkHtml = 'Like what you see? Visit the ' +\n",
              "            '<a target=\"_blank\" href=https://colab.research.google.com/notebooks/data_table.ipynb>data table notebook</a>'\n",
              "            + ' to learn more about interactive tables.';\n",
              "          element.innerHTML = '';\n",
              "          dataTable['output_type'] = 'display_data';\n",
              "          await google.colab.output.renderOutput(dataTable, element);\n",
              "          const docLink = document.createElement('div');\n",
              "          docLink.innerHTML = docLinkHtml;\n",
              "          element.appendChild(docLink);\n",
              "        }\n",
              "      </script>\n",
              "    </div>\n",
              "  </div>\n",
              "  "
            ],
            "text/plain": [
              "                                       Error Message  \\\n",
              "0  Request sent to Azure Machine Learning for ope...   \n",
              "1                                      Timeout error   \n",
              "2  Azure ML pipeline run failed with status: '%am...   \n",
              "3  Could not get the status of the application '%...   \n",
              "4  An invalid json is provided for property '%pro...   \n",
              "\n",
              "                                          Resolution  \n",
              "0     Verify that the credential is valid and retry.  \n",
              "1                                 Rerun the pipeline  \n",
              "2  Check Azure Machine Learning for more error lo...  \n",
              "3  This error occurs when the service doesn't rec...  \n",
              "4  Refer to the documentation for the property an...  "
            ]
          },
          "execution_count": 5,
          "metadata": {},
          "output_type": "execute_result"
        }
      ],
      "source": [
        "#displaying first 5 rows of dataset\n",
        "df.head()"
      ]
    },
    {
      "cell_type": "code",
      "execution_count": 6,
      "metadata": {
        "id": "UQkz0sINQ72v"
      },
      "outputs": [],
      "source": [
        "#suffling the data\n",
        "df01 = df.sample(frac=1)"
      ]
    },
    {
      "cell_type": "code",
      "execution_count": 7,
      "metadata": {
        "colab": {
          "base_uri": "https://localhost:8080/",
          "height": 206
        },
        "id": "WrCv-GbkQ7zA",
        "outputId": "3d0b3d9e-c833-4da7-b553-69c810525483"
      },
      "outputs": [
        {
          "data": {
            "text/html": [
              "\n",
              "  <div id=\"df-97b68b98-855e-4158-98c4-a8285b3469e5\">\n",
              "    <div class=\"colab-df-container\">\n",
              "      <div>\n",
              "<style scoped>\n",
              "    .dataframe tbody tr th:only-of-type {\n",
              "        vertical-align: middle;\n",
              "    }\n",
              "\n",
              "    .dataframe tbody tr th {\n",
              "        vertical-align: top;\n",
              "    }\n",
              "\n",
              "    .dataframe thead th {\n",
              "        text-align: right;\n",
              "    }\n",
              "</style>\n",
              "<table border=\"1\" class=\"dataframe\">\n",
              "  <thead>\n",
              "    <tr style=\"text-align: right;\">\n",
              "      <th></th>\n",
              "      <th>Error Message</th>\n",
              "      <th>Resolution</th>\n",
              "    </tr>\n",
              "  </thead>\n",
              "  <tbody>\n",
              "    <tr>\n",
              "      <th>227</th>\n",
              "      <td>Unable to service the submit job request as te...</td>\n",
              "      <td>Limit the number of concurrent jobs submitted ...</td>\n",
              "    </tr>\n",
              "    <tr>\n",
              "      <th>476</th>\n",
              "      <td>The main storage has not been initialized. Ple...</td>\n",
              "      <td>Verify that the properties of the file storage...</td>\n",
              "    </tr>\n",
              "    <tr>\n",
              "      <th>440</th>\n",
              "      <td>Request sent to Azure Machine Learning for ope...</td>\n",
              "      <td>Verify that the credential is valid and retry.</td>\n",
              "    </tr>\n",
              "    <tr>\n",
              "      <th>426</th>\n",
              "      <td>Could not determine the region from the provid...</td>\n",
              "      <td>Try another storage.</td>\n",
              "    </tr>\n",
              "    <tr>\n",
              "      <th>464</th>\n",
              "      <td>An invalid json is provided for property '%pro...</td>\n",
              "      <td>Refer to the documentation for the property an...</td>\n",
              "    </tr>\n",
              "  </tbody>\n",
              "</table>\n",
              "</div>\n",
              "      <button class=\"colab-df-convert\" onclick=\"convertToInteractive('df-97b68b98-855e-4158-98c4-a8285b3469e5')\"\n",
              "              title=\"Convert this dataframe to an interactive table.\"\n",
              "              style=\"display:none;\">\n",
              "        \n",
              "  <svg xmlns=\"http://www.w3.org/2000/svg\" height=\"24px\"viewBox=\"0 0 24 24\"\n",
              "       width=\"24px\">\n",
              "    <path d=\"M0 0h24v24H0V0z\" fill=\"none\"/>\n",
              "    <path d=\"M18.56 5.44l.94 2.06.94-2.06 2.06-.94-2.06-.94-.94-2.06-.94 2.06-2.06.94zm-11 1L8.5 8.5l.94-2.06 2.06-.94-2.06-.94L8.5 2.5l-.94 2.06-2.06.94zm10 10l.94 2.06.94-2.06 2.06-.94-2.06-.94-.94-2.06-.94 2.06-2.06.94z\"/><path d=\"M17.41 7.96l-1.37-1.37c-.4-.4-.92-.59-1.43-.59-.52 0-1.04.2-1.43.59L10.3 9.45l-7.72 7.72c-.78.78-.78 2.05 0 2.83L4 21.41c.39.39.9.59 1.41.59.51 0 1.02-.2 1.41-.59l7.78-7.78 2.81-2.81c.8-.78.8-2.07 0-2.86zM5.41 20L4 18.59l7.72-7.72 1.47 1.35L5.41 20z\"/>\n",
              "  </svg>\n",
              "      </button>\n",
              "      \n",
              "  <style>\n",
              "    .colab-df-container {\n",
              "      display:flex;\n",
              "      flex-wrap:wrap;\n",
              "      gap: 12px;\n",
              "    }\n",
              "\n",
              "    .colab-df-convert {\n",
              "      background-color: #E8F0FE;\n",
              "      border: none;\n",
              "      border-radius: 50%;\n",
              "      cursor: pointer;\n",
              "      display: none;\n",
              "      fill: #1967D2;\n",
              "      height: 32px;\n",
              "      padding: 0 0 0 0;\n",
              "      width: 32px;\n",
              "    }\n",
              "\n",
              "    .colab-df-convert:hover {\n",
              "      background-color: #E2EBFA;\n",
              "      box-shadow: 0px 1px 2px rgba(60, 64, 67, 0.3), 0px 1px 3px 1px rgba(60, 64, 67, 0.15);\n",
              "      fill: #174EA6;\n",
              "    }\n",
              "\n",
              "    [theme=dark] .colab-df-convert {\n",
              "      background-color: #3B4455;\n",
              "      fill: #D2E3FC;\n",
              "    }\n",
              "\n",
              "    [theme=dark] .colab-df-convert:hover {\n",
              "      background-color: #434B5C;\n",
              "      box-shadow: 0px 1px 3px 1px rgba(0, 0, 0, 0.15);\n",
              "      filter: drop-shadow(0px 1px 2px rgba(0, 0, 0, 0.3));\n",
              "      fill: #FFFFFF;\n",
              "    }\n",
              "  </style>\n",
              "\n",
              "      <script>\n",
              "        const buttonEl =\n",
              "          document.querySelector('#df-97b68b98-855e-4158-98c4-a8285b3469e5 button.colab-df-convert');\n",
              "        buttonEl.style.display =\n",
              "          google.colab.kernel.accessAllowed ? 'block' : 'none';\n",
              "\n",
              "        async function convertToInteractive(key) {\n",
              "          const element = document.querySelector('#df-97b68b98-855e-4158-98c4-a8285b3469e5');\n",
              "          const dataTable =\n",
              "            await google.colab.kernel.invokeFunction('convertToInteractive',\n",
              "                                                     [key], {});\n",
              "          if (!dataTable) return;\n",
              "\n",
              "          const docLinkHtml = 'Like what you see? Visit the ' +\n",
              "            '<a target=\"_blank\" href=https://colab.research.google.com/notebooks/data_table.ipynb>data table notebook</a>'\n",
              "            + ' to learn more about interactive tables.';\n",
              "          element.innerHTML = '';\n",
              "          dataTable['output_type'] = 'display_data';\n",
              "          await google.colab.output.renderOutput(dataTable, element);\n",
              "          const docLink = document.createElement('div');\n",
              "          docLink.innerHTML = docLinkHtml;\n",
              "          element.appendChild(docLink);\n",
              "        }\n",
              "      </script>\n",
              "    </div>\n",
              "  </div>\n",
              "  "
            ],
            "text/plain": [
              "                                         Error Message  \\\n",
              "227  Unable to service the submit job request as te...   \n",
              "476  The main storage has not been initialized. Ple...   \n",
              "440  Request sent to Azure Machine Learning for ope...   \n",
              "426  Could not determine the region from the provid...   \n",
              "464  An invalid json is provided for property '%pro...   \n",
              "\n",
              "                                            Resolution  \n",
              "227  Limit the number of concurrent jobs submitted ...  \n",
              "476  Verify that the properties of the file storage...  \n",
              "440     Verify that the credential is valid and retry.  \n",
              "426                               Try another storage.  \n",
              "464  Refer to the documentation for the property an...  "
            ]
          },
          "execution_count": 7,
          "metadata": {},
          "output_type": "execute_result"
        }
      ],
      "source": [
        "#displaying first 5 rows of shuffled data\n",
        "df01.head()"
      ]
    },
    {
      "cell_type": "code",
      "execution_count": 14,
      "metadata": {
        "id": "GIoTR-ccb84w"
      },
      "outputs": [],
      "source": [
        "#text preprocessing function\n",
        "def text_cleaning(a):\n",
        "  remove_punctuation = [char for char in a if char not in string.punctuation]\n",
        "  remove_punctuation=''.join(remove_punctuation)\n",
        "  return [word for word in remove_punctuation.split() if word.lower() not in stopwords.words('english')]"
      ]
    },
    {
      "cell_type": "code",
      "execution_count": 15,
      "metadata": {
        "colab": {
          "base_uri": "https://localhost:8080/"
        },
        "id": "k1yUzCwBcgAv",
        "outputId": "14fdacb4-96b9-4474-8a62-0048b96e5587"
      },
      "outputs": [
        {
          "name": "stdout",
          "output_type": "stream",
          "text": [
            "{'been', \"mightn't\", \"doesn't\", 'yourselves', 'other', \"she's\", 'ours', 'are', 'd', 'into', 'an', 'y', 'don', 'weren', 'once', 'themselves', 'over', 'won', 'being', 'our', 'or', 'shouldn', 'against', 'shan', 'hers', 'so', 'ma', 'out', 'more', 'up', 'these', 'this', 'yourself', 'hadn', 'down', 'but', 'few', 'very', 'will', 'she', 'isn', 'your', 'at', 'during', 'myself', 'in', 'further', 'now', \"shouldn't\", 'theirs', 'that', 'most', 'were', 'to', 'him', 'was', 'ourselves', 'is', 'has', 'wouldn', 'you', 'am', \"didn't\", 'than', 'they', 'each', 'nor', \"mustn't\", \"hasn't\", \"don't\", 'it', 'until', \"hadn't\", 'mustn', 'should', \"isn't\", 'no', 'above', 'on', 'aren', 'and', 'between', 'whom', \"needn't\", 'of', 'doing', 'from', 'herself', 'couldn', 'because', \"wasn't\", \"aren't\", 'while', 'a', 'own', 'needn', \"wouldn't\", 'as', 'too', 'here', \"weren't\", 'such', 'the', 'under', 'he', 'we', 'does', 'below', 'any', 've', \"should've\", \"you've\", 'them', 'again', 'haven', 'for', 'i', 'where', 'all', 'only', 'll', 're', 'both', 's', 'doesn', 'its', 'then', 'off', 'be', 'before', 'hasn', 'why', 'have', 'o', 'can', 'her', 'their', 'how', 'what', 'had', 'who', 'wasn', 'mightn', 'just', \"won't\", 'through', 'yours', 'me', \"you're\", 'not', 'do', \"that'll\", 'with', 'after', 'having', \"haven't\", 'my', 'ain', 'same', 'himself', \"you'll\", \"it's\", 'm', 'if', 'when', 'his', 'did', 'which', 'those', 'by', \"shan't\", 'some', 'itself', \"you'd\", 't', 'didn', \"couldn't\", 'there', 'about'}\n"
          ]
        },
        {
          "name": "stderr",
          "output_type": "stream",
          "text": [
            "[nltk_data] Downloading package stopwords to /root/nltk_data...\n",
            "[nltk_data]   Unzipping corpora/stopwords.zip.\n"
          ]
        }
      ],
      "source": [
        "#Displaying stopwords \n",
        "import nltk\n",
        "nltk.download('stopwords')\n",
        "from nltk.corpus import stopwords\n",
        "import string\n",
        "from nltk import word_tokenize\n",
        "from sklearn.feature_extraction.text import CountVectorizer\n",
        "stopwords=set(stopwords.words('english'))\n",
        "print(stopwords)\n"
      ]
    },
    {
      "cell_type": "code",
      "execution_count": 16,
      "metadata": {
        "colab": {
          "base_uri": "https://localhost:8080/"
        },
        "id": "Z88-gNmudBuY",
        "outputId": "71a970ae-b9a9-48a7-d7e0-d3b2ee5b63b3"
      },
      "outputs": [
        {
          "name": "stdout",
          "output_type": "stream",
          "text": [
            "227    [Unable, service, submit, job, request, temple...\n",
            "476    [main, storage, initialized, Please, check, pr...\n",
            "440    [Request, sent, Azure, Machine, Learning, oper...\n",
            "426    [Could, determine, region, provided, storage, ...\n",
            "464    [invalid, json, provided, property, propertyNa...\n",
            "                             ...                        \n",
            "294    [Failed, delete, demand, HDI, cluster, Cluster...\n",
            "308    [Could, get, status, application, physicalJobI...\n",
            "296    [main, storage, initialized, Please, check, pr...\n",
            "398    [storage, linked, service, type, linkedService...\n",
            "402    [Azure, ML, pipeline, run, failed, status, aml...\n",
            "Name: Error Message, Length: 540, dtype: object\n"
          ]
        }
      ],
      "source": [
        "#applying text cleaning to the dataset\n",
        "import nltk\n",
        "from nltk.corpus import stopwords\n",
        "print(df01.iloc[:,0].apply(text_cleaning))"
      ]
    },
    {
      "cell_type": "code",
      "execution_count": 17,
      "metadata": {
        "id": "jZoSMErNQ7k9"
      },
      "outputs": [],
      "source": [
        "#dividing dataset into training and testing data\n",
        "x_train,x_test,y_train,y_test=train_test_split(df01['Error Message'],df01['Resolution'],test_size=0.2,random_state=1)"
      ]
    },
    {
      "cell_type": "code",
      "execution_count": 18,
      "metadata": {
        "colab": {
          "base_uri": "https://localhost:8080/"
        },
        "id": "xYfNe649Q7hX",
        "outputId": "9dff22ca-ed88-4d44-f149-df4a499df3bd"
      },
      "outputs": [
        {
          "name": "stdout",
          "output_type": "stream",
          "text": [
            "26     Could not determine the region from the provid...\n",
            "253    Failed to create the on demand HDI cluster. Cl...\n",
            "277    Only full connection strings are supported in ...\n",
            "313    Failed to create the on demand HDI cluster. Cl...\n",
            "322    Azure ML pipeline run failed with status: '%am...\n",
            "Name: Error Message, dtype: object\n",
            "26                                  Try another storage.\n",
            "253    The error message should help to troubleshoot ...\n",
            "277    Verify that the properties of the script stora...\n",
            "313    The error message should help to troubleshoot ...\n",
            "322    Check Azure Machine Learning for more error lo...\n",
            "Name: Resolution, dtype: object\n",
            "173    Failed to create the on demand HDI cluster. Cl...\n",
            "128    Could not get the status of the application '%...\n",
            "343    Could not get the status of the application '%...\n",
            "20     Request sent to Azure Machine Learning for ope...\n",
            "266    Could not determine the region from the provid...\n",
            "Name: Error Message, dtype: object\n",
            "173    The error message should help to troubleshoot ...\n",
            "128    This error occurs when the service doesn't rec...\n",
            "343    This error occurs when the service doesn't rec...\n",
            "20        Verify that the credential is valid and retry.\n",
            "266                                 Try another storage.\n",
            "Name: Resolution, dtype: object\n"
          ]
        }
      ],
      "source": [
        "#displaying first 5 rows of testing and training data\n",
        "print(x_train.head())\n",
        "print(y_train.head())\n",
        "print(x_test.head())\n",
        "print(y_test.head())"
      ]
    },
    {
      "cell_type": "code",
      "execution_count": 19,
      "metadata": {
        "colab": {
          "base_uri": "https://localhost:8080/"
        },
        "id": "JlZkjp9cQ7e_",
        "outputId": "31f6d8b3-954b-4451-adc7-042ffd1c1f4f"
      },
      "outputs": [
        {
          "name": "stdout",
          "output_type": "stream",
          "text": [
            "<class 'pandas.core.series.Series'>\n",
            "<class 'pandas.core.series.Series'>\n",
            "<class 'pandas.core.series.Series'>\n",
            "<class 'pandas.core.series.Series'>\n"
          ]
        }
      ],
      "source": [
        "#printing type of train and test data\n",
        "print(type(x_train))\n",
        "print(type(y_train))\n",
        "print(type(x_test))\n",
        "print(type(y_test))"
      ]
    },
    {
      "cell_type": "code",
      "execution_count": 20,
      "metadata": {
        "id": "6HxMd6t3Q7as"
      },
      "outputs": [],
      "source": [
        "#for train data\n",
        "from traitlets.utils import text\n",
        "from sklearn.feature_extraction.text import CountVectorizer\n",
        "Email_Short_countvector= CountVectorizer(analyzer=text_cleaning).fit(x_train)\n",
        "Email_Short_transform_train =Email_Short_countvector.transform(x_train)"
      ]
    },
    {
      "cell_type": "code",
      "execution_count": 21,
      "metadata": {
        "colab": {
          "base_uri": "https://localhost:8080/"
        },
        "id": "Vfy2kVlqQ7Yz",
        "outputId": "3f623da5-0513-41d8-d88b-8801766b1814"
      },
      "outputs": [
        {
          "name": "stdout",
          "output_type": "stream",
          "text": [
            "(432, 140)\n",
            "(108, 140)\n"
          ]
        }
      ],
      "source": [
        "#for test data\n",
        "Email_Short_transform_test = Email_Short_countvector.transform(x_test)\n",
        "print(Email_Short_transform_train.shape)\n",
        "print(Email_Short_transform_test.shape)"
      ]
    },
    {
      "cell_type": "code",
      "execution_count": 22,
      "metadata": {
        "colab": {
          "base_uri": "https://localhost:8080/"
        },
        "id": "CuVlRJAJQ7U0",
        "outputId": "c16862c7-0314-4931-cc82-ed06c2e2b233"
      },
      "outputs": [
        {
          "name": "stdout",
          "output_type": "stream",
          "text": [
            "(432, 140)\n",
            "(108, 140)\n"
          ]
        }
      ],
      "source": [
        "#TF-IDF Algorithm-term frequency inverse document frequency to know the most significant words\n",
        "from sklearn.feature_extraction.text import TfidfTransformer\n",
        "Emailshort_tfidf_fit= TfidfTransformer().fit(Email_Short_transform_train)\n",
        "\n",
        "Emailshort_tfidf_transform_train=Emailshort_tfidf_fit.transform(Email_Short_transform_train)\n",
        "Emailshort_tfidf_transform_test=Emailshort_tfidf_fit.transform(Email_Short_transform_test)\n",
        "#printing shape of train and test data after applying TF-IDF algorithm\n",
        "print(Emailshort_tfidf_transform_train.shape)\n",
        "print(Emailshort_tfidf_transform_test.shape)"
      ]
    },
    {
      "cell_type": "markdown",
      "metadata": {
        "id": "PCSBK4ZDWoxv"
      },
      "source": [
        "Multinomial Naive Bayes Text Classification"
      ]
    },
    {
      "cell_type": "code",
      "execution_count": 23,
      "metadata": {
        "id": "AEEfp8cdQ7Su"
      },
      "outputs": [],
      "source": [
        "from sklearn.naive_bayes import MultinomialNB\n",
        "model_naive=MultinomialNB().fit(Emailshort_tfidf_transform_train,y_train)"
      ]
    },
    {
      "cell_type": "code",
      "execution_count": 24,
      "metadata": {
        "colab": {
          "base_uri": "https://localhost:8080/"
        },
        "id": "9O-ZES9MQ7Oo",
        "outputId": "19c89b72-6d74-4ab4-a66e-4148565438ec"
      },
      "outputs": [
        {
          "name": "stdout",
          "output_type": "stream",
          "text": [
            "['The error message should help to troubleshoot the issue.'\n",
            " \"This error occurs when the service doesn't receive a response from HDInsight cluster when attempting to request the status of the running job. This issue might be on the cluster itself, or HDInsight service might have an outage.\"\n",
            " \"This error occurs when the service doesn't receive a response from HDInsight cluster when attempting to request the status of the running job. This issue might be on the cluster itself, or HDInsight service might have an outage.\"\n",
            " 'Verify that the credential is valid and retry.' 'Try another storage.']\n",
            "(108,)\n"
          ]
        }
      ],
      "source": [
        "Predict_Intent_naive=model_naive.predict(Emailshort_tfidf_transform_test)\n",
        "print(Predict_Intent_naive[:5])\n",
        "print(Predict_Intent_naive.shape)"
      ]
    },
    {
      "cell_type": "code",
      "execution_count": 25,
      "metadata": {
        "colab": {
          "base_uri": "https://localhost:8080/"
        },
        "id": "--ledg04Q7MX",
        "outputId": "8bf82045-ae68-4f77-9cc0-08ba30cd8040"
      },
      "outputs": [
        {
          "data": {
            "text/plain": [
              "array([[ 3,  0,  0,  0,  0,  0,  0,  0,  0,  0,  0,  0,  0,  0,  0,  0,\n",
              "         0,  0],\n",
              "       [ 0,  6,  0,  0,  0,  0,  0,  0,  0,  0,  0,  0,  0,  0,  0,  0,\n",
              "         0,  0],\n",
              "       [ 0,  0,  6,  0,  0,  0,  0,  0,  0,  0,  0,  0,  0,  0,  0,  0,\n",
              "         0,  0],\n",
              "       [ 0,  0,  0,  5,  0,  0,  0,  0,  0,  0,  0,  0,  0,  0,  0,  0,\n",
              "         0,  0],\n",
              "       [ 0,  0,  0,  0,  6,  0,  0,  0,  0,  0,  0,  0,  0,  0,  0,  0,\n",
              "         0,  0],\n",
              "       [ 0,  0,  0,  0,  0, 16,  0,  0,  0,  0,  0,  0,  0,  0,  0,  0,\n",
              "         0,  0],\n",
              "       [ 0,  0,  0,  0,  0,  0,  7,  0,  0,  0,  0,  0,  0,  0,  0,  0,\n",
              "         0,  0],\n",
              "       [ 0,  0,  0,  0,  0,  0,  0, 11,  0,  0,  0,  0,  0,  0,  0,  0,\n",
              "         0,  0],\n",
              "       [ 0,  0,  0,  0,  0,  0,  0,  0,  0,  5,  0,  0,  0,  0,  0,  0,\n",
              "         0,  0],\n",
              "       [ 0,  0,  0,  0,  0,  0,  0,  0,  0,  4,  0,  0,  0,  0,  0,  0,\n",
              "         0,  0],\n",
              "       [ 0,  0,  0,  0,  0,  0,  0,  0,  0,  0,  5,  0,  0,  0,  0,  0,\n",
              "         0,  0],\n",
              "       [ 0,  0,  0,  0,  0,  0,  0,  0,  0,  0,  0,  8,  0,  0,  0,  0,\n",
              "         0,  0],\n",
              "       [ 0,  0,  0,  0,  0,  0,  0,  0,  0,  0,  0,  0,  4,  0,  0,  0,\n",
              "         0,  0],\n",
              "       [ 0,  0,  0,  0,  0,  0,  0,  0,  0,  0,  0,  0,  0,  3,  0,  0,\n",
              "         0,  0],\n",
              "       [ 0,  0,  0,  0,  0,  0,  0,  0,  0,  0,  0,  0,  0,  0,  2,  0,\n",
              "         0,  0],\n",
              "       [ 0,  0,  0,  0,  0,  0,  0,  0,  0,  0,  0,  0,  0,  0,  0,  4,\n",
              "         0,  0],\n",
              "       [ 0,  0,  0,  0,  0,  0,  0,  0,  0,  0,  0,  0,  0,  0,  0,  0,\n",
              "         5,  0],\n",
              "       [ 0,  0,  0,  0,  0,  0,  0,  0,  0,  0,  0,  0,  0,  0,  0,  0,\n",
              "         0,  8]])"
            ]
          },
          "execution_count": 25,
          "metadata": {},
          "output_type": "execute_result"
        }
      ],
      "source": [
        "#printing the confusion matrix of our predictions\n",
        "from sklearn.metrics import confusion_matrix\n",
        "confusion_matrix(y_test,Predict_Intent_naive)"
      ]
    },
    {
      "cell_type": "code",
      "execution_count": 26,
      "metadata": {
        "colab": {
          "base_uri": "https://localhost:8080/"
        },
        "id": "VG4uWtO6Q7IU",
        "outputId": "84687ad5-3811-4e9b-8f35-4be7f073985f"
      },
      "outputs": [
        {
          "data": {
            "text/plain": [
              "0.9537037037037037"
            ]
          },
          "execution_count": 26,
          "metadata": {},
          "output_type": "execute_result"
        }
      ],
      "source": [
        "from sklearn.metrics import accuracy_score\n",
        "accuracy_score(y_test,Predict_Intent_naive)"
      ]
    },
    {
      "cell_type": "code",
      "execution_count": 27,
      "metadata": {
        "colab": {
          "base_uri": "https://localhost:8080/",
          "height": 206
        },
        "id": "gPQEl6cdQ7GG",
        "outputId": "e76c0a46-3ecb-4c1c-a45b-9eca1eb6ec1e"
      },
      "outputs": [
        {
          "data": {
            "text/html": [
              "\n",
              "  <div id=\"df-e291f896-6fec-454f-9c15-d376a1fcff9d\">\n",
              "    <div class=\"colab-df-container\">\n",
              "      <div>\n",
              "<style scoped>\n",
              "    .dataframe tbody tr th:only-of-type {\n",
              "        vertical-align: middle;\n",
              "    }\n",
              "\n",
              "    .dataframe tbody tr th {\n",
              "        vertical-align: top;\n",
              "    }\n",
              "\n",
              "    .dataframe thead th {\n",
              "        text-align: right;\n",
              "    }\n",
              "</style>\n",
              "<table border=\"1\" class=\"dataframe\">\n",
              "  <thead>\n",
              "    <tr style=\"text-align: right;\">\n",
              "      <th></th>\n",
              "      <th>Predict_Intent_naive</th>\n",
              "    </tr>\n",
              "  </thead>\n",
              "  <tbody>\n",
              "    <tr>\n",
              "      <th>0</th>\n",
              "      <td>The error message should help to troubleshoot ...</td>\n",
              "    </tr>\n",
              "    <tr>\n",
              "      <th>1</th>\n",
              "      <td>This error occurs when the service doesn't rec...</td>\n",
              "    </tr>\n",
              "    <tr>\n",
              "      <th>2</th>\n",
              "      <td>This error occurs when the service doesn't rec...</td>\n",
              "    </tr>\n",
              "    <tr>\n",
              "      <th>3</th>\n",
              "      <td>Verify that the credential is valid and retry.</td>\n",
              "    </tr>\n",
              "    <tr>\n",
              "      <th>4</th>\n",
              "      <td>Try another storage.</td>\n",
              "    </tr>\n",
              "  </tbody>\n",
              "</table>\n",
              "</div>\n",
              "      <button class=\"colab-df-convert\" onclick=\"convertToInteractive('df-e291f896-6fec-454f-9c15-d376a1fcff9d')\"\n",
              "              title=\"Convert this dataframe to an interactive table.\"\n",
              "              style=\"display:none;\">\n",
              "        \n",
              "  <svg xmlns=\"http://www.w3.org/2000/svg\" height=\"24px\"viewBox=\"0 0 24 24\"\n",
              "       width=\"24px\">\n",
              "    <path d=\"M0 0h24v24H0V0z\" fill=\"none\"/>\n",
              "    <path d=\"M18.56 5.44l.94 2.06.94-2.06 2.06-.94-2.06-.94-.94-2.06-.94 2.06-2.06.94zm-11 1L8.5 8.5l.94-2.06 2.06-.94-2.06-.94L8.5 2.5l-.94 2.06-2.06.94zm10 10l.94 2.06.94-2.06 2.06-.94-2.06-.94-.94-2.06-.94 2.06-2.06.94z\"/><path d=\"M17.41 7.96l-1.37-1.37c-.4-.4-.92-.59-1.43-.59-.52 0-1.04.2-1.43.59L10.3 9.45l-7.72 7.72c-.78.78-.78 2.05 0 2.83L4 21.41c.39.39.9.59 1.41.59.51 0 1.02-.2 1.41-.59l7.78-7.78 2.81-2.81c.8-.78.8-2.07 0-2.86zM5.41 20L4 18.59l7.72-7.72 1.47 1.35L5.41 20z\"/>\n",
              "  </svg>\n",
              "      </button>\n",
              "      \n",
              "  <style>\n",
              "    .colab-df-container {\n",
              "      display:flex;\n",
              "      flex-wrap:wrap;\n",
              "      gap: 12px;\n",
              "    }\n",
              "\n",
              "    .colab-df-convert {\n",
              "      background-color: #E8F0FE;\n",
              "      border: none;\n",
              "      border-radius: 50%;\n",
              "      cursor: pointer;\n",
              "      display: none;\n",
              "      fill: #1967D2;\n",
              "      height: 32px;\n",
              "      padding: 0 0 0 0;\n",
              "      width: 32px;\n",
              "    }\n",
              "\n",
              "    .colab-df-convert:hover {\n",
              "      background-color: #E2EBFA;\n",
              "      box-shadow: 0px 1px 2px rgba(60, 64, 67, 0.3), 0px 1px 3px 1px rgba(60, 64, 67, 0.15);\n",
              "      fill: #174EA6;\n",
              "    }\n",
              "\n",
              "    [theme=dark] .colab-df-convert {\n",
              "      background-color: #3B4455;\n",
              "      fill: #D2E3FC;\n",
              "    }\n",
              "\n",
              "    [theme=dark] .colab-df-convert:hover {\n",
              "      background-color: #434B5C;\n",
              "      box-shadow: 0px 1px 3px 1px rgba(0, 0, 0, 0.15);\n",
              "      filter: drop-shadow(0px 1px 2px rgba(0, 0, 0, 0.3));\n",
              "      fill: #FFFFFF;\n",
              "    }\n",
              "  </style>\n",
              "\n",
              "      <script>\n",
              "        const buttonEl =\n",
              "          document.querySelector('#df-e291f896-6fec-454f-9c15-d376a1fcff9d button.colab-df-convert');\n",
              "        buttonEl.style.display =\n",
              "          google.colab.kernel.accessAllowed ? 'block' : 'none';\n",
              "\n",
              "        async function convertToInteractive(key) {\n",
              "          const element = document.querySelector('#df-e291f896-6fec-454f-9c15-d376a1fcff9d');\n",
              "          const dataTable =\n",
              "            await google.colab.kernel.invokeFunction('convertToInteractive',\n",
              "                                                     [key], {});\n",
              "          if (!dataTable) return;\n",
              "\n",
              "          const docLinkHtml = 'Like what you see? Visit the ' +\n",
              "            '<a target=\"_blank\" href=https://colab.research.google.com/notebooks/data_table.ipynb>data table notebook</a>'\n",
              "            + ' to learn more about interactive tables.';\n",
              "          element.innerHTML = '';\n",
              "          dataTable['output_type'] = 'display_data';\n",
              "          await google.colab.output.renderOutput(dataTable, element);\n",
              "          const docLink = document.createElement('div');\n",
              "          docLink.innerHTML = docLinkHtml;\n",
              "          element.appendChild(docLink);\n",
              "        }\n",
              "      </script>\n",
              "    </div>\n",
              "  </div>\n",
              "  "
            ],
            "text/plain": [
              "                                Predict_Intent_naive\n",
              "0  The error message should help to troubleshoot ...\n",
              "1  This error occurs when the service doesn't rec...\n",
              "2  This error occurs when the service doesn't rec...\n",
              "3     Verify that the credential is valid and retry.\n",
              "4                               Try another storage."
            ]
          },
          "execution_count": 27,
          "metadata": {},
          "output_type": "execute_result"
        }
      ],
      "source": [
        "df07=pd.DataFrame(Predict_Intent_naive,columns=['Predict_Intent_naive'])\n",
        "df07.head()"
      ]
    },
    {
      "cell_type": "code",
      "execution_count": 28,
      "metadata": {
        "id": "z6t3rIZeQ7By"
      },
      "outputs": [],
      "source": [
        "df07['Resolution']=pd.Series(y_test.values)\n",
        "df07['Error Messages']=pd.Series(x_test.values)"
      ]
    },
    {
      "cell_type": "code",
      "execution_count": 29,
      "metadata": {
        "colab": {
          "base_uri": "https://localhost:8080/",
          "height": 206
        },
        "id": "lLzXo9EyQ7AR",
        "outputId": "18927155-13c7-429e-86e6-2732c799ee9c"
      },
      "outputs": [
        {
          "data": {
            "text/html": [
              "\n",
              "  <div id=\"df-f56c95d4-8376-4287-9c89-b1120d396c9f\">\n",
              "    <div class=\"colab-df-container\">\n",
              "      <div>\n",
              "<style scoped>\n",
              "    .dataframe tbody tr th:only-of-type {\n",
              "        vertical-align: middle;\n",
              "    }\n",
              "\n",
              "    .dataframe tbody tr th {\n",
              "        vertical-align: top;\n",
              "    }\n",
              "\n",
              "    .dataframe thead th {\n",
              "        text-align: right;\n",
              "    }\n",
              "</style>\n",
              "<table border=\"1\" class=\"dataframe\">\n",
              "  <thead>\n",
              "    <tr style=\"text-align: right;\">\n",
              "      <th></th>\n",
              "      <th>Predict_Intent_naive</th>\n",
              "      <th>Resolution</th>\n",
              "      <th>Error Messages</th>\n",
              "    </tr>\n",
              "  </thead>\n",
              "  <tbody>\n",
              "    <tr>\n",
              "      <th>0</th>\n",
              "      <td>The error message should help to troubleshoot ...</td>\n",
              "      <td>The error message should help to troubleshoot ...</td>\n",
              "      <td>Failed to create the on demand HDI cluster. Cl...</td>\n",
              "    </tr>\n",
              "    <tr>\n",
              "      <th>1</th>\n",
              "      <td>This error occurs when the service doesn't rec...</td>\n",
              "      <td>This error occurs when the service doesn't rec...</td>\n",
              "      <td>Could not get the status of the application '%...</td>\n",
              "    </tr>\n",
              "    <tr>\n",
              "      <th>2</th>\n",
              "      <td>This error occurs when the service doesn't rec...</td>\n",
              "      <td>This error occurs when the service doesn't rec...</td>\n",
              "      <td>Could not get the status of the application '%...</td>\n",
              "    </tr>\n",
              "    <tr>\n",
              "      <th>3</th>\n",
              "      <td>Verify that the credential is valid and retry.</td>\n",
              "      <td>Verify that the credential is valid and retry.</td>\n",
              "      <td>Request sent to Azure Machine Learning for ope...</td>\n",
              "    </tr>\n",
              "    <tr>\n",
              "      <th>4</th>\n",
              "      <td>Try another storage.</td>\n",
              "      <td>Try another storage.</td>\n",
              "      <td>Could not determine the region from the provid...</td>\n",
              "    </tr>\n",
              "  </tbody>\n",
              "</table>\n",
              "</div>\n",
              "      <button class=\"colab-df-convert\" onclick=\"convertToInteractive('df-f56c95d4-8376-4287-9c89-b1120d396c9f')\"\n",
              "              title=\"Convert this dataframe to an interactive table.\"\n",
              "              style=\"display:none;\">\n",
              "        \n",
              "  <svg xmlns=\"http://www.w3.org/2000/svg\" height=\"24px\"viewBox=\"0 0 24 24\"\n",
              "       width=\"24px\">\n",
              "    <path d=\"M0 0h24v24H0V0z\" fill=\"none\"/>\n",
              "    <path d=\"M18.56 5.44l.94 2.06.94-2.06 2.06-.94-2.06-.94-.94-2.06-.94 2.06-2.06.94zm-11 1L8.5 8.5l.94-2.06 2.06-.94-2.06-.94L8.5 2.5l-.94 2.06-2.06.94zm10 10l.94 2.06.94-2.06 2.06-.94-2.06-.94-.94-2.06-.94 2.06-2.06.94z\"/><path d=\"M17.41 7.96l-1.37-1.37c-.4-.4-.92-.59-1.43-.59-.52 0-1.04.2-1.43.59L10.3 9.45l-7.72 7.72c-.78.78-.78 2.05 0 2.83L4 21.41c.39.39.9.59 1.41.59.51 0 1.02-.2 1.41-.59l7.78-7.78 2.81-2.81c.8-.78.8-2.07 0-2.86zM5.41 20L4 18.59l7.72-7.72 1.47 1.35L5.41 20z\"/>\n",
              "  </svg>\n",
              "      </button>\n",
              "      \n",
              "  <style>\n",
              "    .colab-df-container {\n",
              "      display:flex;\n",
              "      flex-wrap:wrap;\n",
              "      gap: 12px;\n",
              "    }\n",
              "\n",
              "    .colab-df-convert {\n",
              "      background-color: #E8F0FE;\n",
              "      border: none;\n",
              "      border-radius: 50%;\n",
              "      cursor: pointer;\n",
              "      display: none;\n",
              "      fill: #1967D2;\n",
              "      height: 32px;\n",
              "      padding: 0 0 0 0;\n",
              "      width: 32px;\n",
              "    }\n",
              "\n",
              "    .colab-df-convert:hover {\n",
              "      background-color: #E2EBFA;\n",
              "      box-shadow: 0px 1px 2px rgba(60, 64, 67, 0.3), 0px 1px 3px 1px rgba(60, 64, 67, 0.15);\n",
              "      fill: #174EA6;\n",
              "    }\n",
              "\n",
              "    [theme=dark] .colab-df-convert {\n",
              "      background-color: #3B4455;\n",
              "      fill: #D2E3FC;\n",
              "    }\n",
              "\n",
              "    [theme=dark] .colab-df-convert:hover {\n",
              "      background-color: #434B5C;\n",
              "      box-shadow: 0px 1px 3px 1px rgba(0, 0, 0, 0.15);\n",
              "      filter: drop-shadow(0px 1px 2px rgba(0, 0, 0, 0.3));\n",
              "      fill: #FFFFFF;\n",
              "    }\n",
              "  </style>\n",
              "\n",
              "      <script>\n",
              "        const buttonEl =\n",
              "          document.querySelector('#df-f56c95d4-8376-4287-9c89-b1120d396c9f button.colab-df-convert');\n",
              "        buttonEl.style.display =\n",
              "          google.colab.kernel.accessAllowed ? 'block' : 'none';\n",
              "\n",
              "        async function convertToInteractive(key) {\n",
              "          const element = document.querySelector('#df-f56c95d4-8376-4287-9c89-b1120d396c9f');\n",
              "          const dataTable =\n",
              "            await google.colab.kernel.invokeFunction('convertToInteractive',\n",
              "                                                     [key], {});\n",
              "          if (!dataTable) return;\n",
              "\n",
              "          const docLinkHtml = 'Like what you see? Visit the ' +\n",
              "            '<a target=\"_blank\" href=https://colab.research.google.com/notebooks/data_table.ipynb>data table notebook</a>'\n",
              "            + ' to learn more about interactive tables.';\n",
              "          element.innerHTML = '';\n",
              "          dataTable['output_type'] = 'display_data';\n",
              "          await google.colab.output.renderOutput(dataTable, element);\n",
              "          const docLink = document.createElement('div');\n",
              "          docLink.innerHTML = docLinkHtml;\n",
              "          element.appendChild(docLink);\n",
              "        }\n",
              "      </script>\n",
              "    </div>\n",
              "  </div>\n",
              "  "
            ],
            "text/plain": [
              "                                Predict_Intent_naive  \\\n",
              "0  The error message should help to troubleshoot ...   \n",
              "1  This error occurs when the service doesn't rec...   \n",
              "2  This error occurs when the service doesn't rec...   \n",
              "3     Verify that the credential is valid and retry.   \n",
              "4                               Try another storage.   \n",
              "\n",
              "                                          Resolution  \\\n",
              "0  The error message should help to troubleshoot ...   \n",
              "1  This error occurs when the service doesn't rec...   \n",
              "2  This error occurs when the service doesn't rec...   \n",
              "3     Verify that the credential is valid and retry.   \n",
              "4                               Try another storage.   \n",
              "\n",
              "                                      Error Messages  \n",
              "0  Failed to create the on demand HDI cluster. Cl...  \n",
              "1  Could not get the status of the application '%...  \n",
              "2  Could not get the status of the application '%...  \n",
              "3  Request sent to Azure Machine Learning for ope...  \n",
              "4  Could not determine the region from the provid...  "
            ]
          },
          "execution_count": 29,
          "metadata": {},
          "output_type": "execute_result"
        }
      ],
      "source": [
        "df07.head()"
      ]
    },
    {
      "cell_type": "code",
      "execution_count": 30,
      "metadata": {
        "id": "tfNMFr0_Q675"
      },
      "outputs": [],
      "source": [
        "#writing naive Bayes output results to sdaioutput.csv file\n",
        "df07.to_csv(\"sdaioutput.csv\")"
      ]
    },
    {
      "cell_type": "markdown",
      "metadata": {
        "id": "DGV_P1z-Z_iI"
      },
      "source": [
        "Random Forest"
      ]
    },
    {
      "cell_type": "code",
      "execution_count": 31,
      "metadata": {
        "id": "SJGO7x0oQ6zx"
      },
      "outputs": [],
      "source": [
        "from sklearn.ensemble import RandomForestClassifier"
      ]
    },
    {
      "cell_type": "code",
      "execution_count": 32,
      "metadata": {
        "id": "XFKygUsJQ6tm"
      },
      "outputs": [],
      "source": [
        "#create a Gaussian Classifier\n",
        "clf=RandomForestClassifier(n_estimators=100)\n",
        "\n",
        "#train the model using the training sets y_pred=clf.predict(X_test)\n",
        "clf.fit(Emailshort_tfidf_transform_train,y_train)\n",
        "Predict_Intent_randomforest=clf.predict(Emailshort_tfidf_transform_test)"
      ]
    },
    {
      "cell_type": "code",
      "execution_count": 33,
      "metadata": {
        "colab": {
          "base_uri": "https://localhost:8080/"
        },
        "id": "ZTWuDKefQ6qn",
        "outputId": "7c3fb35a-d4df-417f-b63a-10f348af5d15"
      },
      "outputs": [
        {
          "data": {
            "text/plain": [
              "0.9537037037037037"
            ]
          },
          "execution_count": 33,
          "metadata": {},
          "output_type": "execute_result"
        }
      ],
      "source": [
        "from sklearn.metrics import accuracy_score\n",
        "accuracy_score(y_test,Predict_Intent_randomforest)"
      ]
    },
    {
      "cell_type": "markdown",
      "metadata": {
        "id": "wnK2o2q6bLh9"
      },
      "source": [
        "test Model prediction by giving input string:"
      ]
    },
    {
      "cell_type": "code",
      "execution_count": 36,
      "metadata": {
        "colab": {
          "base_uri": "https://localhost:8080/"
        },
        "id": "akJAInxDbP2G",
        "outputId": "a55f7082-4255-4d73-80f4-852a129fe25b"
      },
      "outputs": [
        {
          "name": "stdout",
          "output_type": "stream",
          "text": [
            "Hadoop job failed with exit code '%2069;'. See '%pathoflog;/stderr' for more details. Alternatively, open the Ambari UI on the HDI cluster and find the logs for the job '%nameofjob;'. Contact HDInsight team for further support.\n"
          ]
        }
      ],
      "source": [
        "input_string=str(input()).strip()"
      ]
    },
    {
      "cell_type": "code",
      "execution_count": 37,
      "metadata": {
        "colab": {
          "base_uri": "https://localhost:8080/"
        },
        "id": "LNQUyDjrbQ56",
        "outputId": "2e84f214-772d-457b-f0ac-a9ae438c52ef"
      },
      "outputs": [
        {
          "name": "stdout",
          "output_type": "stream",
          "text": [
            "[\"Check whether the job was submitted to YARN. If the job wasn't submitted to yarn, use --master yarn\"]\n"
          ]
        }
      ],
      "source": [
        "input_series=pd.Series(input_string)\n",
        "\n",
        "Email_Short_transform_test_input=Email_Short_countvector.transform(input_series)\n",
        "Predict_Intent_naive=model_naive.predict(Email_Short_transform_test_input)\n",
        "print(Predict_Intent_naive)"
      ]
    }
  ],
  "metadata": {
    "colab": {
      "provenance": []
    },
    "kernelspec": {
      "display_name": "Python 3",
      "name": "python3"
    },
    "language_info": {
      "name": "python"
    }
  },
  "nbformat": 4,
  "nbformat_minor": 0
}
